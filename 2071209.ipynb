{
 "cells": [
  {
   "cell_type": "markdown",
   "metadata": {
    "editable": false
   },
   "source": [
    "# Assignment 1\n",
    "This jupyter notebook is meant to be used in conjunction with the full questions in the assignment pdf.\n",
    "\n",
    "## Instructions\n",
    "- Write your code and analyses in the indicated cells.\n",
    "- Ensure that this notebook runs without errors when the cells are run in sequence.\n",
    "- Do not attempt to change the contents of the other cells.\n",
    "\n",
    "## Submission\n",
    "- Ensure that this notebook runs without errors when the cells are run in sequence.\n",
    "- Rename the notebook to `<roll_number>.ipynb` and submit ONLY the notebook file on moodle."
   ]
  },
  {
   "cell_type": "markdown",
   "metadata": {
    "editable": false
   },
   "source": [
    "### Environment setup\n",
    "\n",
    "The following code reads the train and test data (provided along with this template) and outputs the data and labels as numpy arrays. Use these variables in your code.\n",
    "\n",
    "---\n",
    "#### Note on conventions\n",
    "In mathematical notation, the convention is tha data matrices are column-indexed, which means that a input data $x$ has shape $[d, n]$, where $d$ is the number of dimensions and $n$ is the number of data points, respectively.\n",
    "\n",
    "Programming languages have a slightly different convention. Data matrices are of shape $[n, d]$. This has the benefit of being able to access the ith data point as a simple `data[i]`.\n",
    "\n",
    "What this means is that you need to be careful about your handling of matrix dimensions. For example, while the covariance matrix (of shape $[d,d]$) for input data $x$ is calculated as $(x-u)(x-u)^T$, while programming you would do $(x-u)^T(x-u)$ to get the correct output shapes."
   ]
  },
  {
   "cell_type": "code",
   "execution_count": 2,
   "metadata": {
    "editable": false,
    "scrolled": true
   },
   "outputs": [
    {
     "name": "stdout",
     "output_type": "stream",
     "text": [
      "(6000, 784) (1000, 784)\n",
      "(6000,) (1000,)\n"
     ]
    }
   ],
   "source": [
    "from __future__ import print_function\n",
    "\n",
    "import numpy as np\n",
    "import matplotlib.pyplot as plt\n",
    "\n",
    "def read_data(filename):\n",
    "    with open(filename, 'r') as f:\n",
    "        lines = f.readlines()\n",
    "    \n",
    "    num_points = len(lines)\n",
    "    dim_points = 28 * 28\n",
    "    data = np.empty((num_points, dim_points))\n",
    "    labels = np.empty(num_points)\n",
    "    \n",
    "    for ind, line in enumerate(lines):\n",
    "        num = line.split(',')\n",
    "        labels[ind] = int(num[0])\n",
    "        data[ind] = [ int(x) for x in num[1:] ]\n",
    "        \n",
    "    return (data, labels)\n",
    "\n",
    "train_data, train_labels = read_data(\"sample_train.csv\")\n",
    "test_data, test_labels = read_data(\"sample_test.csv\")\n",
    "print(train_data.shape, test_data.shape)\n",
    "print(train_labels.shape, test_labels.shape)"
   ]
  },
  {
   "cell_type": "markdown",
   "metadata": {
    "editable": false
   },
   "source": [
    "# Questions\n",
    "---\n",
    "## 1.3.1 Representation\n",
    "The next code cells, when run, should plot the eigen value spectrum of the covariance matrices corresponding to the mentioned samples. Normalize the eigen value spectrum and only show the first 100 values."
   ]
  },
  {
   "cell_type": "code",
   "execution_count": 35,
   "metadata": {},
   "outputs": [
    {
     "data": {
      "image/png": "[encoded data removed]",
      "text/plain": [
       "<Figure size 432x288 with 1 Axes>"
      ]
     },
     "metadata": {
      "needs_background": "light"
     },
     "output_type": "display_data"
    },
    {
     "name": "stdout",
     "output_type": "stream",
     "text": [
      "450\n"
     ]
    }
   ],
   "source": [
    "# Samples corresponding to the last digit of your roll number (plot a)\n",
    "from numpy import linalg as LA\n",
    "roll_data = np.array([]).reshape(0,784)\n",
    "for i,j in zip(train_data,train_labels):\n",
    "    if(j == 9):\n",
    "        roll_data=np.vstack((roll_data,i))\n",
    "covariance = np.cov(roll_data.T)\n",
    "eigen = LA.eig(covariance)\n",
    "plt.scatter(np.linspace(0,100,100),eigen[0][0:100])\n",
    "plt.show()\n"
   ]
  },
  {
   "cell_type": "code",
   "execution_count": 36,
   "metadata": {},
   "outputs": [
    {
     "data": {
      "image/png": "[encoded data removed]",
      "text/plain": [
       "<Figure size 432x288 with 1 Axes>"
      ]
     },
     "metadata": {
      "needs_background": "light"
     },
     "output_type": "display_data"
    },
    {
     "name": "stdout",
     "output_type": "stream",
     "text": [
      "450\n"
     ]
    }
   ],
   "source": [
    "# Samples corresponding to the last digit of (your roll number + 1) % 10 (plot b)\n",
    "from numpy import linalg as LA\n",
    "roll_data = np.array([]).reshape(0,784)\n",
    "for i,j in zip(train_data,train_labels):\n",
    "    if(j == 0):\n",
    "        roll_data=np.vstack((roll_data,i))\n",
    "covariance = np.cov(roll_data.T)\n",
    "eigen = LA.eig(covariance)\n",
    "plt.scatter(np.linspace(0,100,100),eigen[0][0:100])\n",
    "plt.show()"
   ]
  },
  {
   "cell_type": "code",
   "execution_count": 37,
   "metadata": {},
   "outputs": [
    {
     "data": {
      "image/png": "[encoded data removed]",
      "text/plain": [
       "<Figure size 432x288 with 1 Axes>"
      ]
     },
     "metadata": {
      "needs_background": "light"
     },
     "output_type": "display_data"
    },
    {
     "name": "stdout",
     "output_type": "stream",
     "text": [
      "658\n"
     ]
    }
   ],
   "source": [
    "# All training data (plot c)\n",
    "from numpy import linalg as LA\n",
    "covariance = np.cov(train_data)\n",
    "eigen = LA.eig(covariance.T)\n",
    "plt.scatter(np.linspace(0,100,100),eigen[0][0:100])\n",
    "plt.show()"
   ]
  },
  {
   "cell_type": "code",
   "execution_count": 39,
   "metadata": {},
   "outputs": [
    {
     "name": "stderr",
     "output_type": "stream",
     "text": [
      "/home/faizan/.local/lib/python3.7/site-packages/numpy/core/numeric.py:591: ComplexWarning: Casting complex values to real discards the imaginary part\n",
      "  return array(a, dtype, copy=False, order=order, subok=True)\n"
     ]
    },
    {
     "data": {
      "image/png": "[encoded data removed]",
      "text/plain": [
       "<Figure size 432x288 with 1 Axes>"
      ]
     },
     "metadata": {
      "needs_background": "light"
     },
     "output_type": "display_data"
    },
    {
     "name": "stdout",
     "output_type": "stream",
     "text": [
      "640\n"
     ]
    }
   ],
   "source": [
    "# Randomly selected 50% of the training data (plot d)\n",
    "from numpy import linalg as LA\n",
    "rand = np.arange(6000);\n",
    "np.random.shuffle(rand);\n",
    "rand_data = np.array([]).reshape(0,784)\n",
    "for i in range(0,3000):\n",
    "    rand_data = np.vstack((rand_data,train_data[rand[i]]))\n",
    "covariance = np.cov(rand_data.T)\n",
    "eigen = LA.eig(covariance)\n",
    "plt.scatter(np.linspace(0,100,100),eigen[0][0:100])\n",
    "plt.show()"
   ]
  },
  {
   "cell_type": "markdown",
   "metadata": {
    "editable": false
   },
   "source": [
    "### 1.3.1 Question 1\n",
    "- Are plots a and b different? Why?\n",
    "- Are plots b and c different? Why?\n",
    "- What are the approximate ranks of each plot?"
   ]
  },
  {
   "cell_type": "markdown",
   "metadata": {},
   "source": [
    "No , the plots are almost similar. That is because 0 and 9 are quite similar and have similar covariance matrix so the plots are quite similar.\n",
    "\n",
    "Yes , the plots are different because the covaraince matrix is different which in turn leads to different eigen vlaues.\n",
    "\n",
    "plot A: Approximate rank of plot a has to be at least greater than 200 , this can be said by looking at the graph where we find that the values are quite clustered and approximaltely will be greater than 200\n",
    "plot B: this will also be > 200 due to the same reasons.\n",
    "My approximations were confirmed by findind out the actual ranks of the above matrix.\n",
    "plot C & D: In this case rank will be at least > 400 , because the eigen values here are much scattered than in A and B.\n",
    "Again the approximations were confirmed bby looking at the actual rank."
   ]
  },
  {
   "cell_type": "markdown",
   "metadata": {
    "editable": false
   },
   "source": [
    "### 1.3.1 Question 2\n",
    "- How many possible images could there be?\n",
    "- What percentage is accessible to us as MNIST data?\n",
    "- If we had acces to all the data, how would the eigen value spectrum of the covariance matrix look?"
   ]
  },
  {
   "cell_type": "markdown",
   "metadata": {},
   "source": [
    "There is a possibility of 2^784 images.\n",
    "The MNIST database provided to us has 6,000 training images and 1,000 testing images.So , we have (7,000/2^784)*100% available.\n",
    "The covariance matrix would be a full rank matrix i.e a covariance matrix with 784 rank.\n",
    "So the matrix would have 784 non-zero eigen values."
   ]
  },
  {
   "cell_type": "markdown",
   "metadata": {
    "editable": false
   },
   "source": [
    "## 1.3.2 Linear Transformation\n",
    "---\n",
    "### 1.3.2 Question 1\n",
    "How does the eigen spectrum change if the original data was multiplied by an orthonormal matrix? Answer analytically and then also validate experimentally."
   ]
  },
  {
   "cell_type": "markdown",
   "metadata": {},
   "source": [
    "Multiplication with an orthonormal matrix is same as linear transformation of rotation, as orthonormal matrixes are rotation matrixes, since eignvector is a vector along which matrix does only scaling, rotatation only rotatates the vector however, to does so uniformly in all directions so there would be no change to value. \n",
    "\n",
    "$cov = (X - u)^T (X - u)$\n",
    "\n",
    "$cov = S^TDS$ (on applying SVD decomposition)\n",
    "\n",
    "$X' = XQ$ and $u^{\\prime} = {u}Q$.\n",
    "\n",
    "$cov' = Q^T(X - u)^T (X - u)Q$\n",
    "\n",
    "$cov' = Q^T cov Q$\n",
    "\n",
    "$cov' = Q^TS^TDSQ$\n",
    "\n",
    "$cov' = (SQ)^TD(SQ)$\n",
    "\n",
    "Q' = SQ as orthonormal times orthonormal is orthonormal.\n",
    "This shows the diagonal does not change therefore eigenvalues are unchanged."
   ]
  },
  {
   "cell_type": "code",
   "execution_count": 6,
   "metadata": {},
   "outputs": [
    {
     "data": {
      "image/png": "[encoded data removed]",
      "text/plain": [
       "<Figure size 432x288 with 1 Axes>"
      ]
     },
     "metadata": {
      "needs_background": "light"
     },
     "output_type": "display_data"
    }
   ],
   "source": [
    "# Experimental validation here.\n",
    "# Multiply your data (train_data) with an orthonormal matrix and plot the\n",
    "from numpy import linalg as LA\n",
    "q,r =  np.linalg.qr(train_data.T)\n",
    "# f_o = q.dot(q.T)\n",
    "new_data = q.dot(train_data.T)\n",
    "covariance = np.cov(new_data)\n",
    "eigen = LA.eig(covariance.T)\n",
    "# eigen value specturm of the new covariance matrix.\n",
    "plt.scatter(np.linspace(0,100,100),eigen[0][0:100])\n",
    "plt.show()\n",
    "# code goes here"
   ]
  },
  {
   "cell_type": "markdown",
   "metadata": {
    "editable": false
   },
   "source": [
    "### 1.3.2 Question 2\n",
    "If  samples  were  multiplied  by  784 × 784  matrix  of rank 1 or 2, (rank deficient matrices), how will the eigen spectrum look like?"
   ]
  },
  {
   "cell_type": "markdown",
   "metadata": {},
   "source": [
    "W K T that rank(B*A) <= min(rank(B),rank(A))\n",
    "Therefore rank of the new matrix will be less than or equal to the matriz with lower rank.\n",
    "\n",
    "We have\n",
    "rank(AB)=dim(R(AB)),rank(A)=dim(R(A)).\n",
    "\n",
    "In general, if a vector space V\n",
    "is a subset of a vector space W, then we have\n",
    "dim(V)≤dim(W).\n",
    "Thus, it is suffiient to show that the vector space R(AB) is a subset of the vector space R(A)\n",
    "\n",
    "Consider any vector y∈R(AB)\n",
    "\n",
    "Then there exists a vector x∈Rl such that y=(AB)x by the definition of the range.\n",
    "Let z=Bx∈Rn\n",
    "\n",
    "Then we have\n",
    "y=A(Bx)=Az\n",
    "and thus the vector y is in R(A). Thus R(AB) is a subset of R(A) and we have\n",
    "rank(AB)=dim(R(AB))≤dim(R(A))=rank(A)"
   ]
  },
  {
   "cell_type": "markdown",
   "metadata": {
    "editable": false
   },
   "source": [
    "### 1.3.2 Question 3\n",
    "Project the original data into the first and second eigenvectors and plot in 2D"
   ]
  },
  {
   "cell_type": "code",
   "execution_count": 8,
   "metadata": {},
   "outputs": [
    {
     "data": {
      "text/plain": [
       "<matplotlib.collections.PathCollection at 0x7f6161528cc0>"
      ]
     },
     "execution_count": 8,
     "metadata": {},
     "output_type": "execute_result"
    },
    {
     "data": {
      "image/png": "[encoded data removed]",
      "text/plain": [
       "<Figure size 432x288 with 1 Axes>"
      ]
     },
     "metadata": {
      "needs_background": "light"
     },
     "output_type": "display_data"
    }
   ],
   "source": [
    "# Plotting code here\n",
    "covariance = np.cov(train_data.T)\n",
    "w,v = LA.eig(covariance)\n",
    "x = np.multiply(train_data,v[:,0]);\n",
    "y = np.multiply(train_data,v[:,1]);\n",
    "x = np.sum(x[:],axis=1)\n",
    "y = np.sum(y[:],axis=1)\n",
    "x = np.real(x)\n",
    "y = np.real(y)\n",
    "plt.scatter(x,y,s=0.5)"
   ]
  },
  {
   "cell_type": "markdown",
   "metadata": {
    "editable": false
   },
   "source": [
    "## 1.3.3 Probabilistic View\n",
    "---\n",
    "In this section you will classify the test set by fitting multivariate gaussians on the train set, with different choices for decision boundaries. On running, your code should print the accuracy on your test set."
   ]
  },
  {
   "cell_type": "code",
   "execution_count": 9,
   "metadata": {},
   "outputs": [
    {
     "name": "stderr",
     "output_type": "stream",
     "text": [
      "/home/faizan/.local/lib/python3.7/site-packages/ipykernel_launcher.py:13: ComplexWarning: Casting complex values to real discards the imaginary part\n",
      "  del sys.path[0]\n"
     ]
    },
    {
     "name": "stdout",
     "output_type": "stream",
     "text": [
      "74.4\n"
     ]
    }
   ],
   "source": [
    "agg_cov = np.zeros((10,784,784));\n",
    "agg_mean = np.zeros((10,784));\n",
    "for i in range(0,10):\n",
    "    l = train_data[(np.where(train_labels == i))]\n",
    "    agg_cov[i] = np.cov(l.T);\n",
    "    agg_mean[i] = np.mean(l,axis=0);\n",
    "deter = np.zeros(10);\n",
    "agg_cov_inv = np.zeros((10,784,784));\n",
    "for i in range(0,10):\n",
    "    agg_cov_inv[i] = LA.pinv(agg_cov[i])\n",
    "    u,v = LA.eig(agg_cov[i]);\n",
    "    r = LA.matrix_rank(u);\n",
    "    deter[i] = np.sum(np.log(u[0:r]));\n",
    "ck = 0;\n",
    "for j in range(len(test_data)):\n",
    "    maxi = -99999999;\n",
    "    pred_label = -1;\n",
    "    for i in range(0,10):\n",
    "#       \n",
    "        p = (-(0.5*deter[i]) - (1/2)*((test_data[j] - agg_mean[i]).dot(agg_cov_inv[i]).dot(test_data[j] - agg_mean[i]).T));\n",
    "        if p > maxi:\n",
    "            maxi = p;\n",
    "            pred_label = i;\n",
    "#             print(pred_label)\n",
    "    if pred_label == test_labels[j]:\n",
    "        ck = ck +1;\n",
    "\n",
    "print(ck/10);"
   ]
  },
  {
   "cell_type": "code",
   "execution_count": 10,
   "metadata": {},
   "outputs": [],
   "source": [
    "# Print accuracy on the test set using MAP\n",
    "# (assume a reasonable prior and mention it in the comments)\n",
    "# this is same as MLL because the prior knowledge in this case is that each sample point has an equal probability to be in \n",
    "# it's sample space , so here the addition of priori estimation does not affect the final result. SO , we can just discard\n",
    "# the use of that term as it has no affect on the final answer.\n",
    "\n",
    "agg_cov = np.zeros((10,784,784));\n",
    "agg_mean = np.zeros((10,784));\n",
    "for i in range(0,10):\n",
    "    l = train_data[(np.where(train_labels == i))]\n",
    "    agg_cov[i] = np.cov(l.T);\n",
    "    agg_mean[i] = np.mean(l,axis=0);\n",
    "deter = np.zeros(10);\n",
    "agg_cov_inv = np.zeros((10,784,784));\n",
    "for i in range(0,10):\n",
    "    agg_cov_inv[i] = LA.pinv(agg_cov[i])\n",
    "    u,v = LA.eig(agg_cov[i]);\n",
    "    r = LA.matrix_rank(u);\n",
    "    deter[i] = np.sum(np.log(u[0:r]));\n",
    "ck = 0;\n",
    "for j in range(len(test_data)):\n",
    "    maxi = -99999999;\n",
    "    pred_label = -1;\n",
    "    for i in range(0,10):\n",
    "#       \n",
    "        p = (-(0.5*deter[i]) - (1/2)*((test_data[j] - agg_mean[i]).dot(agg_cov_inv[i]).dot(test_data[j] - agg_mean[i]).T));\n",
    "        if p > maxi:\n",
    "            maxi = p;\n",
    "            pred_label = i;\n",
    "#             print(pred_label)\n",
    "    if pred_label == test_labels[j]:\n",
    "        ck = ck +1;\n",
    "\n",
    "print(ck/10);"
   ]
  },
  {
   "cell_type": "code",
   "execution_count": 11,
   "metadata": {},
   "outputs": [
    {
     "name": "stdout",
     "output_type": "stream",
     "text": [
      "83.7\n"
     ]
    }
   ],
   "source": [
    "# Print accuracy using Bayesian pairwise majority voting method\n",
    "from numpy import linalg as LA\n",
    "\n",
    "dist = np.zeros((2, 1000))\n",
    "bucket = np.zeros((1000,10))\n",
    "for i in range(9):\n",
    "    data_i = train_data[np.where(train_labels == i)]\n",
    "    mean_i = np.mean(data_i,axis=0)  \n",
    "    cov_i = np.cov(data_i.T)\n",
    "    for j in range(i+1,10):\n",
    "        data_j = train_data[np.where(train_labels == j)]\n",
    "        cov_j = np.cov(data_j.T)\n",
    "        cov =(cov_i + cov_j)/2.0\n",
    "        mean_j = np.mean(data_j,axis=0)\n",
    "        cov_inv = LA.pinv(cov);\n",
    "        relat_shit_i = test_data - mean_i;\n",
    "        relat_shit_j = test_data - mean_j;\n",
    "        t_dist_i = relat_shit_i.dot(cov_inv.dot(relat_shit_i.T))\n",
    "        t_dist_j = relat_shit_j.dot(cov_inv.dot(relat_shit_j.T))\n",
    "        dist[0] = np.diagonal(t_dist_i);\n",
    "        dist[1] = np.diagonal(t_dist_j);\n",
    "#         res=np.argmin(x,0)\n",
    "        for k in range(1000):\n",
    "            if dist[0,k] <= dist[1,k]:\n",
    "                bucket[k,i] = bucket[k,i]+1\n",
    "            else:\n",
    "                bucket[k,j] = bucket[k,j]+1\n",
    "\n",
    "pred_label = np.argmax(bucket,1);                \n",
    "final = test_labels.astype(int) - pred_label;\n",
    "\n",
    "ck = 0;      \n",
    "for i in range(len(final)):\n",
    "    if final[i] == 0:\n",
    "        ck = ck + 1;\n",
    "print(ck/10);"
   ]
  },
  {
   "cell_type": "code",
   "execution_count": 12,
   "metadata": {},
   "outputs": [
    {
     "name": "stdout",
     "output_type": "stream",
     "text": [
      "77.0\n"
     ]
    }
   ],
   "source": [
    "# Print accuracy using Simple Perpendicular Bisector majority voting method\n",
    "bucket = np.zeros((1000,10));\n",
    "dist = np.zeros((2,1000));\n",
    "\n",
    "for i in range(0,9):\n",
    "    data_i = train_data[(np.where(train_labels == i))];\n",
    "#     print(data_i.shape)\n",
    "    mean_i = np.mean(data_i,axis=0);\n",
    "#     print(mean_i.shape)\n",
    "    for j in range(i+1,10):\n",
    "        data_j = train_data[(np.where(train_labels == j))];\n",
    "        mean_j = np.mean(data_j,axis=0);\n",
    "        \n",
    "        dist[0] = np.diagonal((test_data - mean_i).dot((test_data - mean_i).T));\n",
    "        dist[1] = np.diagonal((test_data - mean_j).dot((test_data - mean_j).T));\n",
    "        for k in range(0,1000):\n",
    "            if dist[1,k] >= dist[0,k]:\n",
    "                bucket[k,i] = bucket[k,i] + 1;\n",
    "            else:\n",
    "                bucket[k,j] = bucket[k,j] + 1;\n",
    "                \n",
    "pred_label = np.argmax(bucket,1);                \n",
    "final = test_labels.astype(int) - pred_label;\n",
    "\n",
    "ck = 0;      \n",
    "for i in range(len(final)):\n",
    "    if final[i] == 0:\n",
    "        ck = ck + 1;\n",
    "print(ck/10);\n",
    "\n",
    "         "
   ]
  },
  {
   "cell_type": "markdown",
   "metadata": {
    "editable": false
   },
   "source": [
    "### 1.3.3 Question 4\n",
    "Compare performances and salient observations"
   ]
  },
  {
   "cell_type": "markdown",
   "metadata": {},
   "source": [
    "- In the first question, MAP and MLL accuracies are exactly same beacuse in the training dataset there are 600 examples of each class and terefore the apriori estimation is 0.1 in all the cases so probanility in oth cases, MLL and MAP are same.\n",
    "- Simple perpendicular bisector is fastest to run but gives lesser accuracy on this test data than bayesian pairwise majority voting method.\n",
    "- Mathematically MAP and MLL are most robust, without any assumptions which are carried by next methods, but it gives least accurate results.\n",
    "- There are many numberical errors which emerge due to large size of matrixes which cause anomalies in the result, for example covariance matrix does not have rational eignvalues which cause numberical errors and reduces its rank than what it is matematically. Also method of generation of covariance matrix also seems to affect the results in part 1 using np.zeros() to generate a numpy array and using np.empty() give differnet results."
   ]
  },
  {
   "cell_type": "markdown",
   "metadata": {
    "editable": false
   },
   "source": [
    "## 1.3.4 Nearest Neighbour based Tasks and Design\n",
    "---\n",
    "### 1.3.4 Question 1 : NN Classification with various K\n",
    "Implement a KNN classifier and print accuracies on the test set with K=1,3,7"
   ]
  },
  {
   "cell_type": "code",
   "execution_count": 15,
   "metadata": {
    "scrolled": false
   },
   "outputs": [
    {
     "name": "stdout",
     "output_type": "stream",
     "text": [
      "90.7\n",
      "92.5\n",
      "90.3\n"
     ]
    }
   ],
   "source": [
    "from numpy import linalg as LA\n",
    "def nn(arr_1,arr_2):\n",
    "    dist = 0;\n",
    "    dist = LA.norm(arr_1-arr_2); \n",
    "    return dist\n",
    "\n",
    "#   FOR K = 1\n",
    "ck=0;\n",
    "dist = 0;\n",
    "for i,j in zip(test_data,test_labels):\n",
    "        mini = np.zeros(1);\n",
    "        labels = np.zeros(1);\n",
    "        mini[0] = 100000000;\n",
    "        labels[0] = -1;\n",
    "        ind = 0;\n",
    "        lol=[]\n",
    "        for k,l in zip(train_data,train_labels):\n",
    "            dist = nn(i,k);\n",
    "            min_ind = 0;\n",
    "            fin_ind = -1;\n",
    "            while min_ind >= 0:\n",
    "                if dist < mini[min_ind]:\n",
    "                    fin_ind = min_ind;\n",
    "                    min_ind = min_ind - 1;\n",
    "                else:\n",
    "                    min_ind = - 1;\n",
    "            if fin_ind > -1:\n",
    "                mini[fin_ind] = dist;            \n",
    "                labels[fin_ind] = l;\n",
    "        for i in range(len(labels)):\n",
    "            lol.append(labels[i]);\n",
    "#         lol = stats.mode(labels,axis=None)\n",
    "        res = max(lol,key = lol.count)\n",
    "        if res == j:\n",
    "            ck = ck + 1;\n",
    "print(ck/10)\n",
    "\n",
    "#  FOR K = 3\n",
    "\n",
    "\n",
    "ck=0;\n",
    "dist = 0;\n",
    "for i,j in zip(test_data,test_labels):\n",
    "        mini = np.zeros(3);\n",
    "        labels = np.zeros(3);\n",
    "        mini[0] = mini[1] = mini[2] =100000000;\n",
    "        labels[0] = labels[1] = labels[2] = -1;\n",
    "        ind = 0;\n",
    "        lol = [];\n",
    "        for k,l in zip(train_data,train_labels):\n",
    "            dist = nn(i,k);\n",
    "            min_ind = 2;\n",
    "            fin_ind = -1;\n",
    "            while min_ind >= 0:\n",
    "                if dist < mini[min_ind]:\n",
    "                    fin_ind = min_ind;\n",
    "                    min_ind = min_ind - 1;\n",
    "                else:\n",
    "                    min_ind = - 1;\n",
    "            if fin_ind > -1:\n",
    "                mini[fin_ind] = dist;            \n",
    "                labels[fin_ind] = l;\n",
    "        for i in range(len(labels)):\n",
    "            lol.append(labels[i])\n",
    "#         lol = stats.mode(labels,axis=None)\n",
    "        res = max(lol,key = lol.count)\n",
    "        if res == j:\n",
    "            ck = ck + 1;\n",
    "print(ck/10)\n",
    "\n",
    "\n",
    "\n",
    "#  FOR K = 7\n",
    "\n",
    "\n",
    "\n",
    "\n",
    "ck=0;\n",
    "dist = 0;\n",
    "for i,j in zip(test_data,test_labels):\n",
    "        mini = np.zeros(7);\n",
    "        labels = np.zeros(7);\n",
    "        mini[0] = mini[1] = mini[2] = mini[3] = mini[4] = mini[5] = mini[6] =100000000;\n",
    "        labels[0] = labels[1] = labels[2] = labels[3] = labels[4] = labels[5] = labels[6] = -1;\n",
    "        ind = 0;\n",
    "        lol = [];\n",
    "        for k,l in zip(train_data,train_labels):\n",
    "            dist = nn(i,k);\n",
    "            min_ind = 6;\n",
    "            fin_ind = -1;\n",
    "            while min_ind >= 0:\n",
    "                if dist < mini[min_ind]:\n",
    "                    fin_ind = min_ind;\n",
    "                    min_ind = min_ind - 1;\n",
    "                else:\n",
    "                    min_ind = - 1;\n",
    "            if fin_ind > -1:\n",
    "                mini[fin_ind] = dist;            \n",
    "                labels[fin_ind] = l;\n",
    "        for i in range(len(labels)):\n",
    "            lol.append(labels[i]);\n",
    "#         lol = stats.mode(labels,axis=None)\n",
    "        res = max(lol,key = lol.count)\n",
    "        if res == j:\n",
    "            ck = ck + 1;\n",
    "print(ck/10)"
   ]
  },
  {
   "cell_type": "markdown",
   "metadata": {
    "editable": false
   },
   "source": [
    "### 1.3.4 Question 1 continued\n",
    "- Why / why not are the accuracies the same?\n",
    "- How do we identify the best K? Suggest a computational procedure with a logical explanation."
   ]
  },
  {
   "cell_type": "markdown",
   "metadata": {},
   "source": [
    "---\n",
    "Your analysis here (double click to edit)\n",
    "\n",
    "---"
   ]
  },
  {
   "cell_type": "markdown",
   "metadata": {
    "editable": false
   },
   "source": [
    "### 1.3.4 Question 2 :  Reverse NN based outlier detection\n",
    "A sample can be thought of as an outlier is it is NOT in the nearest neighbour set of anybody else. Expand this idea into an algorithm."
   ]
  },
  {
   "cell_type": "code",
   "execution_count": 16,
   "metadata": {
    "editable": false
   },
   "outputs": [
    {
     "name": "stdout",
     "output_type": "stream",
     "text": [
      "(20, 784)\n"
     ]
    }
   ],
   "source": [
    "# This cell reads mixed data containing both MNIST digits and English characters.\n",
    "# The labels for this mixed data are random and are hence ignored.\n",
    "mixed_data, _ = read_data(\"outliers.csv\")\n",
    "print(mixed_data.shape)"
   ]
  },
  {
   "cell_type": "code",
   "execution_count": 18,
   "metadata": {},
   "outputs": [
    {
     "name": "stdout",
     "output_type": "stream",
     "text": [
      "12\n"
     ]
    }
   ],
   "source": [
    "a = np.zeros((20), dtype=bool)\n",
    "for i in range(0,mixed_data.shape[0]):\n",
    "    mini = np.zeros(3);\n",
    "    labels = np.zeros(3);\n",
    "    mini[0] = mini[1] = mini[2] = 100000000;\n",
    "    labels[0] = labels[1] = labels[2] = -1;\n",
    "    ind = 0;\n",
    "    for j in range(0,mixed_data.shape[0]):\n",
    "        if i != j:\n",
    "            dist = nn(mixed_data[i],mixed_data[j]);\n",
    "        else:\n",
    "            dist = 100000000;\n",
    "        min_ind = 2;\n",
    "        fin_ind = -1;\n",
    "        while min_ind >= 0:\n",
    "            if dist < mini[min_ind]:\n",
    "                fin_ind = min_ind;\n",
    "                min_ind = min_ind - 1;\n",
    "            else:\n",
    "                min_ind = - 1;\n",
    "        if fin_ind > -1:\n",
    "            mini[fin_ind] = dist;            \n",
    "            labels[fin_ind] = j;\n",
    "    for i in range(0,a.shape[0]):\n",
    "        for j in range(0,3):\n",
    "            if labels[j] == i:\n",
    "                a[i] = True;\n",
    "for i in range(len(a)):\n",
    "    if a[i] == False:\n",
    "        print(i+1);"
   ]
  },
  {
   "cell_type": "markdown",
   "metadata": {
    "editable": false
   },
   "source": [
    "### 1.3.4 Question 3 : NN for regression\n",
    "Assume that each classID in the train set corresponds to a neatness score as:\n",
    "$$ neatness = \\frac{classID}{10} $$\n",
    "\n",
    "---\n",
    "Assume we had to predict the neatness score for each test sample using NN based techiniques on the train set. Describe the algorithm."
   ]
  },
  {
   "cell_type": "markdown",
   "metadata": {},
   "source": [
    "Using K Nearest Neighbour,I first found the nearest neighbour from train_data sample to the given test_data and then assume the neatness value of the test_data sample to be \n",
    "$$ neatness = \\frac{classID}{10} $$\n",
    "here,classID is of the nearest neighbour or in case of K > 1, the class with maximum frequency.\n",
    "\n",
    "Basically , we try to find out the predicted labels on the test data and then calculate neatness score.\n",
    "we are taking the mean absolute error.\n",
    "\n",
    "$$ neatness = abs\\frac{(test labels - predicted lables)}{10} $$\n",
    "$$ neatness = \\frac{neatness}{1000}$$"
   ]
  },
  {
   "cell_type": "markdown",
   "metadata": {
    "editable": false
   },
   "source": [
    "### 1.3.4 Question 3 continued\n",
    "Validate your algorithm on the test set. This code should print mean absolute error on the test set, using the train set for NN based regression."
   ]
  },
  {
   "cell_type": "code",
   "execution_count": 20,
   "metadata": {},
   "outputs": [
    {
     "name": "stdout",
     "output_type": "stream",
     "text": [
      "0.02890000000000001\n"
     ]
    }
   ],
   "source": [
    "# Your code here\n",
    "from numpy import linalg as LA\n",
    "def nn(arr_1,arr_2):\n",
    "    dist = 0;\n",
    "    dist = LA.norm(arr_1-arr_2); \n",
    "    return dist\n",
    "ck=0;\n",
    "pred_label=np.zeros((1000));\n",
    "dist = 0;\n",
    "for i,j in zip(test_data,test_labels):\n",
    "        mini = np.zeros(3);\n",
    "        lol = [];\n",
    "        labels = np.zeros(3);\n",
    "        mini[0] = mini[1] = mini[2] =100000000;\n",
    "        labels[0] = labels[1] = labels[2] = -1;\n",
    "        ind = 0;\n",
    "        for k,l in zip(train_data,train_labels):\n",
    "            dist = nn(i,k);\n",
    "            min_ind = 2;\n",
    "            fin_ind = -1;\n",
    "            while min_ind >= 0:\n",
    "                if dist < mini[min_ind]:\n",
    "                    fin_ind = min_ind;\n",
    "                    min_ind = min_ind - 1;\n",
    "                else:\n",
    "                    min_ind = - 1;\n",
    "            if fin_ind > -1:\n",
    "                mini[fin_ind] = dist;            \n",
    "                labels[fin_ind] = l;\n",
    "        for i in range(len(labels)):\n",
    "            lol.append(labels[i]);\n",
    "        res = max(lol, key = lol.count);\n",
    "#         print(res);\n",
    "#         print(labels);\n",
    "#         stats.mode(labels,axis=None)\n",
    "        pred_label[ck] = res;\n",
    "        ck = ck + 1;\n",
    "# print(ck)\n",
    "test = abs(pred_label - test_labels)/10;\n",
    "test_1 = sum(test);\n",
    "final = test_1/1000;\n",
    "print(final);"
   ]
  },
  {
   "cell_type": "markdown",
   "metadata": {
    "editable": false
   },
   "source": [
    "---\n",
    "# FOLLOW THE SUBMISSION INSTRUCTIONS\n",
    "---"
   ]
  }
 ],
 "metadata": {
  "kernelspec": {
   "display_name": "Python 3",
   "language": "python",
   "name": "python3"
  },
  "language_info": {
   "codemirror_mode": {
    "name": "ipython",
    "version": 3
   },
   "file_extension": ".py",
   "mimetype": "text/x-python",
   "name": "python",
   "nbconvert_exporter": "python",
   "pygments_lexer": "ipython3",
   "version": "3.7.3"
  }
 },
 "nbformat": 4,
 "nbformat_minor": 2
}
